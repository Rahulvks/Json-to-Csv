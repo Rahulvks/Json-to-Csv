{
 "cells": [
  {
   "cell_type": "code",
   "execution_count": null,
   "metadata": {
    "collapsed": false
   },
   "outputs": [
    {
     "name": "stdout",
     "output_type": "stream",
     "text": [
      "Converting /home/nlp/Downloads/Dataset/yelp_dataset_challenge_round9/yelp_academic_dataset_review.json to /home/nlp/Downloads/Dataset/yelp_dataset_challenge_round9/yelp_academic_dataset_review.csv\n"
     ]
    }
   ],
   "source": [
    "import json\n",
    "import pandas as pd\n",
    "from glob import glob\n",
    "\n",
    "def convert(x):\n",
    "    data = json.loads(x)\n",
    "    for k, v in data.items():\n",
    "        if isinstance(v, list):\n",
    "            ob[k] = ','.join(v)\n",
    "        elif isinstance(v, dict):\n",
    "            for kk, vv in v.items():\n",
    "                data['%s_%s' % (k, kk)] = vv\n",
    "            del data[k]\n",
    "    return data\n",
    "\n",
    "for json_filename in glob('Load your Json'):\n",
    "    csv_filename = '%s.csv' % json_filename[:-5]\n",
    "    print 'Converting %s to %s' % (json_filename, csv_filename)\n",
    "    df = pd.DataFrame([convert(line) for line in file(json_filename)])\n",
    "    df.to_csv(csv_filename, encoding='utf-8', index=False)"
   ]
  },
  {
   "cell_type": "code",
   "execution_count": null,
   "metadata": {
    "collapsed": true
   },
   "outputs": [],
   "source": []
  }
 ],
 "metadata": {
  "anaconda-cloud": {},
  "kernelspec": {
   "display_name": "Python [conda root]",
   "language": "python",
   "name": "conda-root-py"
  },
  "language_info": {
   "codemirror_mode": {
    "name": "ipython",
    "version": 2
   },
   "file_extension": ".py",
   "mimetype": "text/x-python",
   "name": "python",
   "nbconvert_exporter": "python",
   "pygments_lexer": "ipython2",
   "version": "2.7.13"
  }
 },
 "nbformat": 4,
 "nbformat_minor": 2
}
